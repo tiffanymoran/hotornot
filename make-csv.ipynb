{
 "cells": [
  {
   "cell_type": "code",
   "execution_count": 1,
   "id": "9eee6a53",
   "metadata": {},
   "outputs": [],
   "source": [
    "import numpy as np\n",
    "import h5py\n",
    "import pandas as pd\n",
    "import os\n",
    "import fnmatch\n",
    "\n",
    "matches = list()\n",
    "df_final = pd.DataFrame()\n",
    "f= open(\"/Users/tiffanymoran/Desktop/DataAnalytics/MSD-example.csv\",\"w\")\n",
    "for root,dirnames,filenames in os.walk('/Users/tiffanymoran/Downloads/MillionSongSubset'):\n",
    "    for filename in fnmatch.filter(filenames, '*.h5'):\n",
    "        #print(os.path.join(root, filename))\n",
    "        hdf = pd.HDFStore(os.path.join(root, filename),mode ='r')\n",
    "        df1 = hdf.get('/analysis/songs/')\n",
    "        df2 = hdf.get('/metadata/songs/')\n",
    "        df3 = hdf.get('/musicbrainz/songs/')\n",
    "        df = pd.concat([df1,df2,df3], axis = 1).reindex(df1.index)\n",
    "        df.to_csv(f,mode='a', header=True)\n",
    "        hdf.close()\n",
    "f.close()"
   ]
  },
  {
   "cell_type": "code",
   "execution_count": null,
   "id": "3d32696f",
   "metadata": {},
   "outputs": [],
   "source": []
  },
  {
   "cell_type": "code",
   "execution_count": null,
   "id": "59a9f2f4",
   "metadata": {},
   "outputs": [],
   "source": []
  },
  {
   "cell_type": "code",
   "execution_count": null,
   "id": "c924fc5d",
   "metadata": {},
   "outputs": [],
   "source": []
  }
 ],
 "metadata": {
  "kernelspec": {
   "display_name": "Python 3",
   "language": "python",
   "name": "python3"
  },
  "language_info": {
   "codemirror_mode": {
    "name": "ipython",
    "version": 3
   },
   "file_extension": ".py",
   "mimetype": "text/x-python",
   "name": "python",
   "nbconvert_exporter": "python",
   "pygments_lexer": "ipython3",
   "version": "3.8.8"
  }
 },
 "nbformat": 4,
 "nbformat_minor": 5
}
