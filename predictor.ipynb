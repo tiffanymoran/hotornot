{
 "cells": [
  {
   "cell_type": "code",
   "execution_count": 1,
   "id": "7af3e910",
   "metadata": {},
   "outputs": [],
   "source": [
    "import pandas as pd\n",
    "import numpy as np\n",
    "import seaborn as sns                   \n",
    "from matplotlib import pyplot as plt  \n",
    "from sklearn import svm\n",
    "%matplotlib inline"
   ]
  },
  {
   "cell_type": "markdown",
   "id": "fe69eed9",
   "metadata": {},
   "source": [
    "# High level data exploration"
   ]
  },
  {
   "cell_type": "code",
   "execution_count": 2,
   "id": "b204c4d4",
   "metadata": {},
   "outputs": [],
   "source": [
    "df = pd.read_csv('MSD-full.csv') # load the newly created CSV into a dataframe"
   ]
  },
  {
   "cell_type": "code",
   "execution_count": 3,
   "id": "8abf2e2a",
   "metadata": {},
   "outputs": [
    {
     "data": {
      "text/plain": [
       "analysis_sample_rate      int64\n",
       "artist_familiarity      float64\n",
       "artist_hotttnesss       float64\n",
       "artist_latitude         float64\n",
       "artist_longitude        float64\n",
       "artist_name              object\n",
       "artist_terms              int64\n",
       "bars_start                int64\n",
       "beats_start               int64\n",
       "duration                float64\n",
       "end_of_fade_in          float64\n",
       "key                       int64\n",
       "loudness                float64\n",
       "mode                      int64\n",
       "mode_confidence         float64\n",
       "release                  object\n",
       "segments_pitches         object\n",
       "segments_start            int64\n",
       "song_hotttnesss         float64\n",
       "start_of_fade_out       float64\n",
       "tempo                   float64\n",
       "time_signature            int64\n",
       "title                    object\n",
       "year                      int64\n",
       "dtype: object"
      ]
     },
     "execution_count": 3,
     "metadata": {},
     "output_type": "execute_result"
    }
   ],
   "source": [
    "df.dtypes # look at the types of data"
   ]
  },
  {
   "cell_type": "code",
   "execution_count": 4,
   "id": "38ec81b1",
   "metadata": {},
   "outputs": [
    {
     "data": {
      "text/plain": [
       "(10000, 24)"
      ]
     },
     "execution_count": 4,
     "metadata": {},
     "output_type": "execute_result"
    }
   ],
   "source": [
    "df.shape # look at the shape of data"
   ]
  },
  {
   "cell_type": "code",
   "execution_count": 5,
   "id": "832fb401",
   "metadata": {},
   "outputs": [
    {
     "data": {
      "text/html": [
       "<div>\n",
       "<style scoped>\n",
       "    .dataframe tbody tr th:only-of-type {\n",
       "        vertical-align: middle;\n",
       "    }\n",
       "\n",
       "    .dataframe tbody tr th {\n",
       "        vertical-align: top;\n",
       "    }\n",
       "\n",
       "    .dataframe thead th {\n",
       "        text-align: right;\n",
       "    }\n",
       "</style>\n",
       "<table border=\"1\" class=\"dataframe\">\n",
       "  <thead>\n",
       "    <tr style=\"text-align: right;\">\n",
       "      <th></th>\n",
       "      <th>analysis_sample_rate</th>\n",
       "      <th>artist_familiarity</th>\n",
       "      <th>artist_hotttnesss</th>\n",
       "      <th>artist_latitude</th>\n",
       "      <th>artist_longitude</th>\n",
       "      <th>artist_name</th>\n",
       "      <th>artist_terms</th>\n",
       "      <th>bars_start</th>\n",
       "      <th>beats_start</th>\n",
       "      <th>duration</th>\n",
       "      <th>...</th>\n",
       "      <th>mode_confidence</th>\n",
       "      <th>release</th>\n",
       "      <th>segments_pitches</th>\n",
       "      <th>segments_start</th>\n",
       "      <th>song_hotttnesss</th>\n",
       "      <th>start_of_fade_out</th>\n",
       "      <th>tempo</th>\n",
       "      <th>time_signature</th>\n",
       "      <th>title</th>\n",
       "      <th>year</th>\n",
       "    </tr>\n",
       "  </thead>\n",
       "  <tbody>\n",
       "    <tr>\n",
       "      <th>0</th>\n",
       "      <td>22050</td>\n",
       "      <td>0.581794</td>\n",
       "      <td>0.401998</td>\n",
       "      <td>NaN</td>\n",
       "      <td>NaN</td>\n",
       "      <td>Casual</td>\n",
       "      <td>37</td>\n",
       "      <td>83</td>\n",
       "      <td>344</td>\n",
       "      <td>218.93179</td>\n",
       "      <td>...</td>\n",
       "      <td>0.636</td>\n",
       "      <td>Fear Itself</td>\n",
       "      <td>(971, 12)</td>\n",
       "      <td>971</td>\n",
       "      <td>0.602120</td>\n",
       "      <td>218.932</td>\n",
       "      <td>92.198</td>\n",
       "      <td>4</td>\n",
       "      <td>I Didnt Mean To\"</td>\n",
       "      <td>0</td>\n",
       "    </tr>\n",
       "    <tr>\n",
       "      <th>1</th>\n",
       "      <td>22050</td>\n",
       "      <td>0.630630</td>\n",
       "      <td>0.417500</td>\n",
       "      <td>35.14968</td>\n",
       "      <td>-90.04892</td>\n",
       "      <td>The Box Tops</td>\n",
       "      <td>38</td>\n",
       "      <td>73</td>\n",
       "      <td>296</td>\n",
       "      <td>148.03546</td>\n",
       "      <td>...</td>\n",
       "      <td>0.430</td>\n",
       "      <td>Dimensions</td>\n",
       "      <td>(550, 12)</td>\n",
       "      <td>550</td>\n",
       "      <td>NaN</td>\n",
       "      <td>137.915</td>\n",
       "      <td>121.274</td>\n",
       "      <td>4</td>\n",
       "      <td>Soul Deep</td>\n",
       "      <td>1969</td>\n",
       "    </tr>\n",
       "    <tr>\n",
       "      <th>2</th>\n",
       "      <td>22050</td>\n",
       "      <td>0.487357</td>\n",
       "      <td>0.343428</td>\n",
       "      <td>NaN</td>\n",
       "      <td>NaN</td>\n",
       "      <td>Sonora Santanera</td>\n",
       "      <td>10</td>\n",
       "      <td>291</td>\n",
       "      <td>291</td>\n",
       "      <td>177.47546</td>\n",
       "      <td>...</td>\n",
       "      <td>0.565</td>\n",
       "      <td>Las Numero 1 De La Sonora Santanera</td>\n",
       "      <td>(562, 12)</td>\n",
       "      <td>562</td>\n",
       "      <td>NaN</td>\n",
       "      <td>172.304</td>\n",
       "      <td>100.070</td>\n",
       "      <td>1</td>\n",
       "      <td>Amor De Cabaret</td>\n",
       "      <td>0</td>\n",
       "    </tr>\n",
       "    <tr>\n",
       "      <th>3</th>\n",
       "      <td>22050</td>\n",
       "      <td>0.630382</td>\n",
       "      <td>0.454231</td>\n",
       "      <td>NaN</td>\n",
       "      <td>NaN</td>\n",
       "      <td>Adam Ant</td>\n",
       "      <td>43</td>\n",
       "      <td>115</td>\n",
       "      <td>462</td>\n",
       "      <td>233.40363</td>\n",
       "      <td>...</td>\n",
       "      <td>0.749</td>\n",
       "      <td>Friend Or Foe</td>\n",
       "      <td>(821, 12)</td>\n",
       "      <td>821</td>\n",
       "      <td>NaN</td>\n",
       "      <td>217.124</td>\n",
       "      <td>119.293</td>\n",
       "      <td>4</td>\n",
       "      <td>Something Girls</td>\n",
       "      <td>1982</td>\n",
       "    </tr>\n",
       "    <tr>\n",
       "      <th>4</th>\n",
       "      <td>22050</td>\n",
       "      <td>0.651046</td>\n",
       "      <td>0.401724</td>\n",
       "      <td>NaN</td>\n",
       "      <td>NaN</td>\n",
       "      <td>Gob</td>\n",
       "      <td>38</td>\n",
       "      <td>110</td>\n",
       "      <td>444</td>\n",
       "      <td>209.60608</td>\n",
       "      <td>...</td>\n",
       "      <td>0.371</td>\n",
       "      <td>Muertos Vivos</td>\n",
       "      <td>(673, 12)</td>\n",
       "      <td>673</td>\n",
       "      <td>0.604501</td>\n",
       "      <td>198.699</td>\n",
       "      <td>129.738</td>\n",
       "      <td>4</td>\n",
       "      <td>Face the Ashes</td>\n",
       "      <td>2007</td>\n",
       "    </tr>\n",
       "  </tbody>\n",
       "</table>\n",
       "<p>5 rows × 24 columns</p>\n",
       "</div>"
      ],
      "text/plain": [
       "   analysis_sample_rate  artist_familiarity  artist_hotttnesss  \\\n",
       "0                 22050            0.581794           0.401998   \n",
       "1                 22050            0.630630           0.417500   \n",
       "2                 22050            0.487357           0.343428   \n",
       "3                 22050            0.630382           0.454231   \n",
       "4                 22050            0.651046           0.401724   \n",
       "\n",
       "   artist_latitude  artist_longitude       artist_name  artist_terms  \\\n",
       "0              NaN               NaN            Casual            37   \n",
       "1         35.14968         -90.04892      The Box Tops            38   \n",
       "2              NaN               NaN  Sonora Santanera            10   \n",
       "3              NaN               NaN          Adam Ant            43   \n",
       "4              NaN               NaN               Gob            38   \n",
       "\n",
       "   bars_start  beats_start   duration  ...  mode_confidence  \\\n",
       "0          83          344  218.93179  ...            0.636   \n",
       "1          73          296  148.03546  ...            0.430   \n",
       "2         291          291  177.47546  ...            0.565   \n",
       "3         115          462  233.40363  ...            0.749   \n",
       "4         110          444  209.60608  ...            0.371   \n",
       "\n",
       "                               release  segments_pitches  segments_start  \\\n",
       "0                          Fear Itself         (971, 12)             971   \n",
       "1                           Dimensions         (550, 12)             550   \n",
       "2  Las Numero 1 De La Sonora Santanera         (562, 12)             562   \n",
       "3                        Friend Or Foe         (821, 12)             821   \n",
       "4                        Muertos Vivos         (673, 12)             673   \n",
       "\n",
       "   song_hotttnesss start_of_fade_out    tempo  time_signature  \\\n",
       "0         0.602120           218.932   92.198               4   \n",
       "1              NaN           137.915  121.274               4   \n",
       "2              NaN           172.304  100.070               1   \n",
       "3              NaN           217.124  119.293               4   \n",
       "4         0.604501           198.699  129.738               4   \n",
       "\n",
       "              title  year  \n",
       "0  I Didnt Mean To\"     0  \n",
       "1         Soul Deep  1969  \n",
       "2   Amor De Cabaret     0  \n",
       "3   Something Girls  1982  \n",
       "4    Face the Ashes  2007  \n",
       "\n",
       "[5 rows x 24 columns]"
      ]
     },
     "execution_count": 5,
     "metadata": {},
     "output_type": "execute_result"
    }
   ],
   "source": [
    "df.head()"
   ]
  },
  {
   "cell_type": "code",
   "execution_count": 6,
   "id": "7c98408b",
   "metadata": {},
   "outputs": [
    {
     "name": "stdout",
     "output_type": "stream",
     "text": [
      "<class 'pandas.core.frame.DataFrame'>\n",
      "RangeIndex: 10000 entries, 0 to 9999\n",
      "Data columns (total 24 columns):\n",
      " #   Column                Non-Null Count  Dtype  \n",
      "---  ------                --------------  -----  \n",
      " 0   analysis_sample_rate  10000 non-null  int64  \n",
      " 1   artist_familiarity    9996 non-null   float64\n",
      " 2   artist_hotttnesss     10000 non-null  float64\n",
      " 3   artist_latitude       3742 non-null   float64\n",
      " 4   artist_longitude      3742 non-null   float64\n",
      " 5   artist_name           10000 non-null  object \n",
      " 6   artist_terms          10000 non-null  int64  \n",
      " 7   bars_start            10000 non-null  int64  \n",
      " 8   beats_start           10000 non-null  int64  \n",
      " 9   duration              10000 non-null  float64\n",
      " 10  end_of_fade_in        10000 non-null  float64\n",
      " 11  key                   10000 non-null  int64  \n",
      " 12  loudness              10000 non-null  float64\n",
      " 13  mode                  10000 non-null  int64  \n",
      " 14  mode_confidence       10000 non-null  float64\n",
      " 15  release               10000 non-null  object \n",
      " 16  segments_pitches      10000 non-null  object \n",
      " 17  segments_start        10000 non-null  int64  \n",
      " 18  song_hotttnesss       5648 non-null   float64\n",
      " 19  start_of_fade_out     10000 non-null  float64\n",
      " 20  tempo                 10000 non-null  float64\n",
      " 21  time_signature        10000 non-null  int64  \n",
      " 22  title                 9999 non-null   object \n",
      " 23  year                  10000 non-null  int64  \n",
      "dtypes: float64(11), int64(9), object(4)\n",
      "memory usage: 1.8+ MB\n"
     ]
    }
   ],
   "source": [
    "df.info()"
   ]
  },
  {
   "cell_type": "code",
   "execution_count": 7,
   "id": "241cd78e",
   "metadata": {},
   "outputs": [
    {
     "data": {
      "text/html": [
       "<div>\n",
       "<style scoped>\n",
       "    .dataframe tbody tr th:only-of-type {\n",
       "        vertical-align: middle;\n",
       "    }\n",
       "\n",
       "    .dataframe tbody tr th {\n",
       "        vertical-align: top;\n",
       "    }\n",
       "\n",
       "    .dataframe thead th {\n",
       "        text-align: right;\n",
       "    }\n",
       "</style>\n",
       "<table border=\"1\" class=\"dataframe\">\n",
       "  <thead>\n",
       "    <tr style=\"text-align: right;\">\n",
       "      <th></th>\n",
       "      <th>analysis_sample_rate</th>\n",
       "      <th>artist_familiarity</th>\n",
       "      <th>artist_hotttnesss</th>\n",
       "      <th>artist_latitude</th>\n",
       "      <th>artist_longitude</th>\n",
       "      <th>artist_terms</th>\n",
       "      <th>bars_start</th>\n",
       "      <th>beats_start</th>\n",
       "      <th>duration</th>\n",
       "      <th>end_of_fade_in</th>\n",
       "      <th>key</th>\n",
       "      <th>loudness</th>\n",
       "      <th>mode</th>\n",
       "      <th>mode_confidence</th>\n",
       "      <th>segments_start</th>\n",
       "      <th>song_hotttnesss</th>\n",
       "      <th>start_of_fade_out</th>\n",
       "      <th>tempo</th>\n",
       "      <th>time_signature</th>\n",
       "      <th>year</th>\n",
       "    </tr>\n",
       "  </thead>\n",
       "  <tbody>\n",
       "    <tr>\n",
       "      <th>count</th>\n",
       "      <td>10000.0</td>\n",
       "      <td>9996.000000</td>\n",
       "      <td>10000.000000</td>\n",
       "      <td>3742.000000</td>\n",
       "      <td>3742.000000</td>\n",
       "      <td>10000.000000</td>\n",
       "      <td>10000.000000</td>\n",
       "      <td>10000.000000</td>\n",
       "      <td>10000.000000</td>\n",
       "      <td>10000.000000</td>\n",
       "      <td>10000.000000</td>\n",
       "      <td>10000.000000</td>\n",
       "      <td>10000.000000</td>\n",
       "      <td>10000.000000</td>\n",
       "      <td>10000.000000</td>\n",
       "      <td>5648.000000</td>\n",
       "      <td>10000.000000</td>\n",
       "      <td>10000.000000</td>\n",
       "      <td>10000.000000</td>\n",
       "      <td>10000.000000</td>\n",
       "    </tr>\n",
       "    <tr>\n",
       "      <th>mean</th>\n",
       "      <td>22050.0</td>\n",
       "      <td>0.565456</td>\n",
       "      <td>0.385552</td>\n",
       "      <td>37.157357</td>\n",
       "      <td>-63.933358</td>\n",
       "      <td>26.661100</td>\n",
       "      <td>164.979200</td>\n",
       "      <td>480.994500</td>\n",
       "      <td>238.507518</td>\n",
       "      <td>0.758616</td>\n",
       "      <td>5.276100</td>\n",
       "      <td>-10.485669</td>\n",
       "      <td>0.691100</td>\n",
       "      <td>0.477784</td>\n",
       "      <td>857.740600</td>\n",
       "      <td>0.342822</td>\n",
       "      <td>229.975465</td>\n",
       "      <td>122.915449</td>\n",
       "      <td>3.564800</td>\n",
       "      <td>934.704600</td>\n",
       "    </tr>\n",
       "    <tr>\n",
       "      <th>std</th>\n",
       "      <td>0.0</td>\n",
       "      <td>0.160161</td>\n",
       "      <td>0.143647</td>\n",
       "      <td>15.598494</td>\n",
       "      <td>50.508223</td>\n",
       "      <td>13.555782</td>\n",
       "      <td>145.928359</td>\n",
       "      <td>273.768992</td>\n",
       "      <td>114.137514</td>\n",
       "      <td>1.867952</td>\n",
       "      <td>3.554087</td>\n",
       "      <td>5.399788</td>\n",
       "      <td>0.462063</td>\n",
       "      <td>0.191254</td>\n",
       "      <td>490.003715</td>\n",
       "      <td>0.247220</td>\n",
       "      <td>112.195735</td>\n",
       "      <td>35.184412</td>\n",
       "      <td>1.266239</td>\n",
       "      <td>996.650657</td>\n",
       "    </tr>\n",
       "    <tr>\n",
       "      <th>min</th>\n",
       "      <td>22050.0</td>\n",
       "      <td>0.000000</td>\n",
       "      <td>0.000000</td>\n",
       "      <td>-41.280540</td>\n",
       "      <td>-162.436500</td>\n",
       "      <td>0.000000</td>\n",
       "      <td>0.000000</td>\n",
       "      <td>0.000000</td>\n",
       "      <td>1.044440</td>\n",
       "      <td>0.000000</td>\n",
       "      <td>0.000000</td>\n",
       "      <td>-51.643000</td>\n",
       "      <td>0.000000</td>\n",
       "      <td>0.000000</td>\n",
       "      <td>4.000000</td>\n",
       "      <td>0.000000</td>\n",
       "      <td>1.044000</td>\n",
       "      <td>0.000000</td>\n",
       "      <td>0.000000</td>\n",
       "      <td>0.000000</td>\n",
       "    </tr>\n",
       "    <tr>\n",
       "      <th>25%</th>\n",
       "      <td>22050.0</td>\n",
       "      <td>0.467611</td>\n",
       "      <td>0.325266</td>\n",
       "      <td>33.748310</td>\n",
       "      <td>-93.291560</td>\n",
       "      <td>15.000000</td>\n",
       "      <td>85.000000</td>\n",
       "      <td>317.000000</td>\n",
       "      <td>176.032200</td>\n",
       "      <td>0.000000</td>\n",
       "      <td>2.000000</td>\n",
       "      <td>-13.163250</td>\n",
       "      <td>0.000000</td>\n",
       "      <td>0.360000</td>\n",
       "      <td>563.000000</td>\n",
       "      <td>0.000000</td>\n",
       "      <td>168.856000</td>\n",
       "      <td>96.965750</td>\n",
       "      <td>3.000000</td>\n",
       "      <td>0.000000</td>\n",
       "    </tr>\n",
       "    <tr>\n",
       "      <th>50%</th>\n",
       "      <td>22050.0</td>\n",
       "      <td>0.563666</td>\n",
       "      <td>0.380742</td>\n",
       "      <td>38.997920</td>\n",
       "      <td>-80.237420</td>\n",
       "      <td>25.000000</td>\n",
       "      <td>122.000000</td>\n",
       "      <td>434.000000</td>\n",
       "      <td>223.059140</td>\n",
       "      <td>0.199000</td>\n",
       "      <td>5.000000</td>\n",
       "      <td>-9.380000</td>\n",
       "      <td>1.000000</td>\n",
       "      <td>0.487000</td>\n",
       "      <td>766.500000</td>\n",
       "      <td>0.360371</td>\n",
       "      <td>213.879000</td>\n",
       "      <td>120.161000</td>\n",
       "      <td>4.000000</td>\n",
       "      <td>0.000000</td>\n",
       "    </tr>\n",
       "    <tr>\n",
       "      <th>75%</th>\n",
       "      <td>22050.0</td>\n",
       "      <td>0.668020</td>\n",
       "      <td>0.453858</td>\n",
       "      <td>43.648560</td>\n",
       "      <td>-9.401020</td>\n",
       "      <td>39.000000</td>\n",
       "      <td>184.000000</td>\n",
       "      <td>588.000000</td>\n",
       "      <td>276.375060</td>\n",
       "      <td>0.421000</td>\n",
       "      <td>8.000000</td>\n",
       "      <td>-6.532500</td>\n",
       "      <td>1.000000</td>\n",
       "      <td>0.606000</td>\n",
       "      <td>1029.250000</td>\n",
       "      <td>0.537504</td>\n",
       "      <td>266.292000</td>\n",
       "      <td>144.013250</td>\n",
       "      <td>4.000000</td>\n",
       "      <td>2000.000000</td>\n",
       "    </tr>\n",
       "    <tr>\n",
       "      <th>max</th>\n",
       "      <td>22050.0</td>\n",
       "      <td>1.000000</td>\n",
       "      <td>1.082503</td>\n",
       "      <td>69.651020</td>\n",
       "      <td>174.767140</td>\n",
       "      <td>91.000000</td>\n",
       "      <td>1676.000000</td>\n",
       "      <td>7880.000000</td>\n",
       "      <td>1819.767710</td>\n",
       "      <td>43.119000</td>\n",
       "      <td>11.000000</td>\n",
       "      <td>0.566000</td>\n",
       "      <td>1.000000</td>\n",
       "      <td>1.000000</td>\n",
       "      <td>8419.000000</td>\n",
       "      <td>1.000000</td>\n",
       "      <td>1813.426000</td>\n",
       "      <td>262.828000</td>\n",
       "      <td>7.000000</td>\n",
       "      <td>2010.000000</td>\n",
       "    </tr>\n",
       "  </tbody>\n",
       "</table>\n",
       "</div>"
      ],
      "text/plain": [
       "       analysis_sample_rate  artist_familiarity  artist_hotttnesss  \\\n",
       "count               10000.0         9996.000000       10000.000000   \n",
       "mean                22050.0            0.565456           0.385552   \n",
       "std                     0.0            0.160161           0.143647   \n",
       "min                 22050.0            0.000000           0.000000   \n",
       "25%                 22050.0            0.467611           0.325266   \n",
       "50%                 22050.0            0.563666           0.380742   \n",
       "75%                 22050.0            0.668020           0.453858   \n",
       "max                 22050.0            1.000000           1.082503   \n",
       "\n",
       "       artist_latitude  artist_longitude  artist_terms    bars_start  \\\n",
       "count      3742.000000       3742.000000  10000.000000  10000.000000   \n",
       "mean         37.157357        -63.933358     26.661100    164.979200   \n",
       "std          15.598494         50.508223     13.555782    145.928359   \n",
       "min         -41.280540       -162.436500      0.000000      0.000000   \n",
       "25%          33.748310        -93.291560     15.000000     85.000000   \n",
       "50%          38.997920        -80.237420     25.000000    122.000000   \n",
       "75%          43.648560         -9.401020     39.000000    184.000000   \n",
       "max          69.651020        174.767140     91.000000   1676.000000   \n",
       "\n",
       "        beats_start      duration  end_of_fade_in           key      loudness  \\\n",
       "count  10000.000000  10000.000000    10000.000000  10000.000000  10000.000000   \n",
       "mean     480.994500    238.507518        0.758616      5.276100    -10.485669   \n",
       "std      273.768992    114.137514        1.867952      3.554087      5.399788   \n",
       "min        0.000000      1.044440        0.000000      0.000000    -51.643000   \n",
       "25%      317.000000    176.032200        0.000000      2.000000    -13.163250   \n",
       "50%      434.000000    223.059140        0.199000      5.000000     -9.380000   \n",
       "75%      588.000000    276.375060        0.421000      8.000000     -6.532500   \n",
       "max     7880.000000   1819.767710       43.119000     11.000000      0.566000   \n",
       "\n",
       "               mode  mode_confidence  segments_start  song_hotttnesss  \\\n",
       "count  10000.000000     10000.000000    10000.000000      5648.000000   \n",
       "mean       0.691100         0.477784      857.740600         0.342822   \n",
       "std        0.462063         0.191254      490.003715         0.247220   \n",
       "min        0.000000         0.000000        4.000000         0.000000   \n",
       "25%        0.000000         0.360000      563.000000         0.000000   \n",
       "50%        1.000000         0.487000      766.500000         0.360371   \n",
       "75%        1.000000         0.606000     1029.250000         0.537504   \n",
       "max        1.000000         1.000000     8419.000000         1.000000   \n",
       "\n",
       "       start_of_fade_out         tempo  time_signature          year  \n",
       "count       10000.000000  10000.000000    10000.000000  10000.000000  \n",
       "mean          229.975465    122.915449        3.564800    934.704600  \n",
       "std           112.195735     35.184412        1.266239    996.650657  \n",
       "min             1.044000      0.000000        0.000000      0.000000  \n",
       "25%           168.856000     96.965750        3.000000      0.000000  \n",
       "50%           213.879000    120.161000        4.000000      0.000000  \n",
       "75%           266.292000    144.013250        4.000000   2000.000000  \n",
       "max          1813.426000    262.828000        7.000000   2010.000000  "
      ]
     },
     "execution_count": 7,
     "metadata": {},
     "output_type": "execute_result"
    }
   ],
   "source": [
    "df.describe() "
   ]
  },
  {
   "cell_type": "code",
   "execution_count": 8,
   "id": "6904e6c2",
   "metadata": {},
   "outputs": [
    {
     "data": {
      "text/plain": [
       "analysis_sample_rate       0\n",
       "artist_familiarity         4\n",
       "artist_hotttnesss          0\n",
       "artist_latitude         6258\n",
       "artist_longitude        6258\n",
       "artist_name                0\n",
       "artist_terms               0\n",
       "bars_start                 0\n",
       "beats_start                0\n",
       "duration                   0\n",
       "end_of_fade_in             0\n",
       "key                        0\n",
       "loudness                   0\n",
       "mode                       0\n",
       "mode_confidence            0\n",
       "release                    0\n",
       "segments_pitches           0\n",
       "segments_start             0\n",
       "song_hotttnesss         4352\n",
       "start_of_fade_out          0\n",
       "tempo                      0\n",
       "time_signature             0\n",
       "title                      1\n",
       "year                       0\n",
       "dtype: int64"
      ]
     },
     "execution_count": 8,
     "metadata": {},
     "output_type": "execute_result"
    }
   ],
   "source": [
    "df.isnull().sum() # null values in five different features, though more in location and hotttnesss"
   ]
  },
  {
   "cell_type": "markdown",
   "id": "edb1bec9",
   "metadata": {},
   "source": [
    "# Data cleansing"
   ]
  },
  {
   "cell_type": "code",
   "execution_count": 9,
   "id": "c4a67e0a",
   "metadata": {},
   "outputs": [],
   "source": [
    "df=df.drop(['artist_latitude', \n",
    "            'artist_longitude',\n",
    "            'artist_name', \n",
    "            'release', \n",
    "            'title',\n",
    "            'segments_pitches',], axis=1)\n",
    "\n",
    "#drop these columns"
   ]
  },
  {
   "cell_type": "code",
   "execution_count": 10,
   "id": "b1621e1f",
   "metadata": {},
   "outputs": [],
   "source": [
    "df['year'] = df['year'].replace({'0':np.nan, 0:np.nan}) #replace 0 value years with null values"
   ]
  },
  {
   "cell_type": "code",
   "execution_count": 11,
   "id": "c46f01a8",
   "metadata": {},
   "outputs": [],
   "source": [
    "df['song_hotttnesss'] = df['song_hotttnesss'].replace({'0':np.nan, 0:np.nan}) #replace 0 value hotttnesss with null values"
   ]
  },
  {
   "cell_type": "code",
   "execution_count": 12,
   "id": "5e8516ee",
   "metadata": {},
   "outputs": [],
   "source": [
    "df = df.dropna() #drop null values"
   ]
  },
  {
   "cell_type": "code",
   "execution_count": 13,
   "id": "d8ede6b5",
   "metadata": {},
   "outputs": [
    {
     "data": {
      "text/html": [
       "<div>\n",
       "<style scoped>\n",
       "    .dataframe tbody tr th:only-of-type {\n",
       "        vertical-align: middle;\n",
       "    }\n",
       "\n",
       "    .dataframe tbody tr th {\n",
       "        vertical-align: top;\n",
       "    }\n",
       "\n",
       "    .dataframe thead th {\n",
       "        text-align: right;\n",
       "    }\n",
       "</style>\n",
       "<table border=\"1\" class=\"dataframe\">\n",
       "  <thead>\n",
       "    <tr style=\"text-align: right;\">\n",
       "      <th></th>\n",
       "      <th>analysis_sample_rate</th>\n",
       "      <th>artist_familiarity</th>\n",
       "      <th>artist_hotttnesss</th>\n",
       "      <th>artist_terms</th>\n",
       "      <th>bars_start</th>\n",
       "      <th>beats_start</th>\n",
       "      <th>duration</th>\n",
       "      <th>end_of_fade_in</th>\n",
       "      <th>key</th>\n",
       "      <th>loudness</th>\n",
       "      <th>mode</th>\n",
       "      <th>mode_confidence</th>\n",
       "      <th>segments_start</th>\n",
       "      <th>song_hotttnesss</th>\n",
       "      <th>start_of_fade_out</th>\n",
       "      <th>tempo</th>\n",
       "      <th>time_signature</th>\n",
       "      <th>year</th>\n",
       "      <th>is_hot</th>\n",
       "    </tr>\n",
       "  </thead>\n",
       "  <tbody>\n",
       "    <tr>\n",
       "      <th>4</th>\n",
       "      <td>22050</td>\n",
       "      <td>0.651046</td>\n",
       "      <td>0.401724</td>\n",
       "      <td>38</td>\n",
       "      <td>110</td>\n",
       "      <td>444</td>\n",
       "      <td>209.60608</td>\n",
       "      <td>0.066</td>\n",
       "      <td>2</td>\n",
       "      <td>-4.501</td>\n",
       "      <td>1</td>\n",
       "      <td>0.371</td>\n",
       "      <td>673</td>\n",
       "      <td>0.604501</td>\n",
       "      <td>198.699</td>\n",
       "      <td>129.738</td>\n",
       "      <td>4</td>\n",
       "      <td>2007.0</td>\n",
       "      <td>1</td>\n",
       "    </tr>\n",
       "    <tr>\n",
       "      <th>8</th>\n",
       "      <td>22050</td>\n",
       "      <td>0.426668</td>\n",
       "      <td>0.332276</td>\n",
       "      <td>24</td>\n",
       "      <td>93</td>\n",
       "      <td>381</td>\n",
       "      <td>269.81832</td>\n",
       "      <td>5.300</td>\n",
       "      <td>4</td>\n",
       "      <td>-13.496</td>\n",
       "      <td>1</td>\n",
       "      <td>0.652</td>\n",
       "      <td>912</td>\n",
       "      <td>0.265861</td>\n",
       "      <td>258.990</td>\n",
       "      <td>86.643</td>\n",
       "      <td>4</td>\n",
       "      <td>1984.0</td>\n",
       "      <td>0</td>\n",
       "    </tr>\n",
       "    <tr>\n",
       "      <th>15</th>\n",
       "      <td>22050</td>\n",
       "      <td>0.636424</td>\n",
       "      <td>0.447935</td>\n",
       "      <td>48</td>\n",
       "      <td>246</td>\n",
       "      <td>990</td>\n",
       "      <td>491.12771</td>\n",
       "      <td>0.000</td>\n",
       "      <td>7</td>\n",
       "      <td>-8.576</td>\n",
       "      <td>1</td>\n",
       "      <td>0.829</td>\n",
       "      <td>1628</td>\n",
       "      <td>0.405116</td>\n",
       "      <td>486.034</td>\n",
       "      <td>119.826</td>\n",
       "      <td>4</td>\n",
       "      <td>1987.0</td>\n",
       "      <td>0</td>\n",
       "    </tr>\n",
       "    <tr>\n",
       "      <th>18</th>\n",
       "      <td>22050</td>\n",
       "      <td>0.707200</td>\n",
       "      <td>0.513463</td>\n",
       "      <td>48</td>\n",
       "      <td>177</td>\n",
       "      <td>714</td>\n",
       "      <td>290.29832</td>\n",
       "      <td>0.145</td>\n",
       "      <td>7</td>\n",
       "      <td>-5.271</td>\n",
       "      <td>1</td>\n",
       "      <td>0.756</td>\n",
       "      <td>832</td>\n",
       "      <td>0.684136</td>\n",
       "      <td>285.605</td>\n",
       "      <td>150.062</td>\n",
       "      <td>4</td>\n",
       "      <td>2004.0</td>\n",
       "      <td>1</td>\n",
       "    </tr>\n",
       "    <tr>\n",
       "      <th>23</th>\n",
       "      <td>22050</td>\n",
       "      <td>0.839963</td>\n",
       "      <td>0.541889</td>\n",
       "      <td>32</td>\n",
       "      <td>142</td>\n",
       "      <td>572</td>\n",
       "      <td>207.77751</td>\n",
       "      <td>0.061</td>\n",
       "      <td>7</td>\n",
       "      <td>-4.264</td>\n",
       "      <td>1</td>\n",
       "      <td>0.453</td>\n",
       "      <td>719</td>\n",
       "      <td>0.666528</td>\n",
       "      <td>204.696</td>\n",
       "      <td>166.862</td>\n",
       "      <td>4</td>\n",
       "      <td>2004.0</td>\n",
       "      <td>1</td>\n",
       "    </tr>\n",
       "  </tbody>\n",
       "</table>\n",
       "</div>"
      ],
      "text/plain": [
       "    analysis_sample_rate  artist_familiarity  artist_hotttnesss  artist_terms  \\\n",
       "4                  22050            0.651046           0.401724            38   \n",
       "8                  22050            0.426668           0.332276            24   \n",
       "15                 22050            0.636424           0.447935            48   \n",
       "18                 22050            0.707200           0.513463            48   \n",
       "23                 22050            0.839963           0.541889            32   \n",
       "\n",
       "    bars_start  beats_start   duration  end_of_fade_in  key  loudness  mode  \\\n",
       "4          110          444  209.60608           0.066    2    -4.501     1   \n",
       "8           93          381  269.81832           5.300    4   -13.496     1   \n",
       "15         246          990  491.12771           0.000    7    -8.576     1   \n",
       "18         177          714  290.29832           0.145    7    -5.271     1   \n",
       "23         142          572  207.77751           0.061    7    -4.264     1   \n",
       "\n",
       "    mode_confidence  segments_start  song_hotttnesss  start_of_fade_out  \\\n",
       "4             0.371             673         0.604501            198.699   \n",
       "8             0.652             912         0.265861            258.990   \n",
       "15            0.829            1628         0.405116            486.034   \n",
       "18            0.756             832         0.684136            285.605   \n",
       "23            0.453             719         0.666528            204.696   \n",
       "\n",
       "      tempo  time_signature    year is_hot  \n",
       "4   129.738               4  2007.0      1  \n",
       "8    86.643               4  1984.0      0  \n",
       "15  119.826               4  1987.0      0  \n",
       "18  150.062               4  2004.0      1  \n",
       "23  166.862               4  2004.0      1  "
      ]
     },
     "execution_count": 13,
     "metadata": {},
     "output_type": "execute_result"
    }
   ],
   "source": [
    "bin_labels = [0,1]\n",
    "df['is_hot'] = pd.qcut(df['song_hotttnesss'],\n",
    "                              q=[0, .5, 1],\n",
    "                              labels=bin_labels)\n",
    "df.head()\n",
    "#create is_hot category"
   ]
  },
  {
   "cell_type": "code",
   "execution_count": 14,
   "id": "d5e6f961",
   "metadata": {},
   "outputs": [
    {
     "name": "stdout",
     "output_type": "stream",
     "text": [
      "<class 'pandas.core.frame.DataFrame'>\n",
      "Int64Index: 2712 entries, 4 to 9999\n",
      "Data columns (total 19 columns):\n",
      " #   Column                Non-Null Count  Dtype   \n",
      "---  ------                --------------  -----   \n",
      " 0   analysis_sample_rate  2712 non-null   int64   \n",
      " 1   artist_familiarity    2712 non-null   float64 \n",
      " 2   artist_hotttnesss     2712 non-null   float64 \n",
      " 3   artist_terms          2712 non-null   int64   \n",
      " 4   bars_start            2712 non-null   int64   \n",
      " 5   beats_start           2712 non-null   int64   \n",
      " 6   duration              2712 non-null   float64 \n",
      " 7   end_of_fade_in        2712 non-null   float64 \n",
      " 8   key                   2712 non-null   int64   \n",
      " 9   loudness              2712 non-null   float64 \n",
      " 10  mode                  2712 non-null   int64   \n",
      " 11  mode_confidence       2712 non-null   float64 \n",
      " 12  segments_start        2712 non-null   int64   \n",
      " 13  song_hotttnesss       2712 non-null   float64 \n",
      " 14  start_of_fade_out     2712 non-null   float64 \n",
      " 15  tempo                 2712 non-null   float64 \n",
      " 16  time_signature        2712 non-null   int64   \n",
      " 17  year                  2712 non-null   float64 \n",
      " 18  is_hot                2712 non-null   category\n",
      "dtypes: category(1), float64(10), int64(8)\n",
      "memory usage: 405.3 KB\n"
     ]
    }
   ],
   "source": [
    "df.info() #null values have been successfully removed!"
   ]
  },
  {
   "cell_type": "markdown",
   "id": "7a1df6b1",
   "metadata": {},
   "source": [
    "# Feature plotting"
   ]
  },
  {
   "cell_type": "code",
   "execution_count": 15,
   "id": "7b973783",
   "metadata": {},
   "outputs": [
    {
     "data": {
      "text/plain": [
       "<function matplotlib.pyplot.show(close=None, block=None)>"
      ]
     },
     "execution_count": 15,
     "metadata": {},
     "output_type": "execute_result"
    },
    {
     "data": {
      "image/png": "[encoded data removed]",
      "text/plain": [
       "<Figure size 432x288 with 1 Axes>"
      ]
     },
     "metadata": {
      "needs_background": "light"
     },
     "output_type": "display_data"
    }
   ],
   "source": [
    "sns.histplot(df['duration'], bins=20)\n",
    "plt.show"
   ]
  },
  {
   "cell_type": "code",
   "execution_count": 16,
   "id": "fb8b0858",
   "metadata": {},
   "outputs": [
    {
     "data": {
      "text/plain": [
       "<function matplotlib.pyplot.show(close=None, block=None)>"
      ]
     },
     "execution_count": 16,
     "metadata": {},
     "output_type": "execute_result"
    },
    {
     "data": {
      "image/png": "[encoded data removed]",
      "text/plain": [
       "<Figure size 432x288 with 1 Axes>"
      ]
     },
     "metadata": {
      "needs_background": "light"
     },
     "output_type": "display_data"
    }
   ],
   "source": [
    "sns.histplot(df['loudness'],bins=20)\n",
    "plt.show"
   ]
  },
  {
   "cell_type": "code",
   "execution_count": 17,
   "id": "04ae5933",
   "metadata": {},
   "outputs": [
    {
     "data": {
      "text/plain": [
       "<function matplotlib.pyplot.show(close=None, block=None)>"
      ]
     },
     "execution_count": 17,
     "metadata": {},
     "output_type": "execute_result"
    },
    {
     "data": {
      "image/png": "[encoded data removed]",
      "text/plain": [
       "<Figure size 432x288 with 1 Axes>"
      ]
     },
     "metadata": {
      "needs_background": "light"
     },
     "output_type": "display_data"
    }
   ],
   "source": [
    "sns.histplot(df['tempo'], bins=20)\n",
    "plt.show"
   ]
  },
  {
   "cell_type": "code",
   "execution_count": 18,
   "id": "13402573",
   "metadata": {},
   "outputs": [
    {
     "data": {
      "text/plain": [
       "<function matplotlib.pyplot.show(close=None, block=None)>"
      ]
     },
     "execution_count": 18,
     "metadata": {},
     "output_type": "execute_result"
    },
    {
     "data": {
      "image/png": "[encoded data removed]",
      "text/plain": [
       "<Figure size 432x288 with 1 Axes>"
      ]
     },
     "metadata": {
      "needs_background": "light"
     },
     "output_type": "display_data"
    }
   ],
   "source": [
    "sns.histplot(df['artist_familiarity'], bins=20)\n",
    "plt.show"
   ]
  },
  {
   "cell_type": "code",
   "execution_count": 19,
   "id": "0dbda68a",
   "metadata": {},
   "outputs": [
    {
     "data": {
      "text/plain": [
       "<function matplotlib.pyplot.show(close=None, block=None)>"
      ]
     },
     "execution_count": 19,
     "metadata": {},
     "output_type": "execute_result"
    },
    {
     "data": {
      "image/png": "[encoded data removed]",
      "text/plain": [
       "<Figure size 432x288 with 1 Axes>"
      ]
     },
     "metadata": {
      "needs_background": "light"
     },
     "output_type": "display_data"
    }
   ],
   "source": [
    "sns.histplot(df['artist_hotttnesss'], bins=20)\n",
    "plt.show"
   ]
  },
  {
   "cell_type": "code",
   "execution_count": 20,
   "id": "ed2fe8d3",
   "metadata": {},
   "outputs": [
    {
     "data": {
      "text/plain": [
       "<function matplotlib.pyplot.show(close=None, block=None)>"
      ]
     },
     "execution_count": 20,
     "metadata": {},
     "output_type": "execute_result"
    },
    {
     "data": {
      "image/png": "[encoded data removed]",
      "text/plain": [
       "<Figure size 432x288 with 1 Axes>"
      ]
     },
     "metadata": {
      "needs_background": "light"
     },
     "output_type": "display_data"
    }
   ],
   "source": [
    "sns.histplot(df['year'], bins=20)\n",
    "plt.show"
   ]
  },
  {
   "cell_type": "code",
   "execution_count": 21,
   "id": "4c131e2f",
   "metadata": {},
   "outputs": [
    {
     "data": {
      "text/plain": [
       "<function matplotlib.pyplot.show(close=None, block=None)>"
      ]
     },
     "execution_count": 21,
     "metadata": {},
     "output_type": "execute_result"
    },
    {
     "data": {
      "image/png": "[encoded data removed]",
      "text/plain": [
       "<Figure size 432x288 with 1 Axes>"
      ]
     },
     "metadata": {
      "needs_background": "light"
     },
     "output_type": "display_data"
    }
   ],
   "source": [
    "sns.histplot(df['song_hotttnesss'], bins=20)\n",
    "plt.show"
   ]
  },
  {
   "cell_type": "code",
   "execution_count": 22,
   "id": "f862b7f5",
   "metadata": {},
   "outputs": [
    {
     "name": "stderr",
     "output_type": "stream",
     "text": [
      "/Users/tiffanymoran/opt/anaconda3/lib/python3.8/site-packages/seaborn/_decorators.py:36: FutureWarning: Pass the following variable as a keyword arg: x. From version 0.12, the only valid positional argument will be `data`, and passing other arguments without an explicit keyword will result in an error or misinterpretation.\n",
      "  warnings.warn(\n"
     ]
    },
    {
     "data": {
      "text/plain": [
       "<AxesSubplot:xlabel='key', ylabel='count'>"
      ]
     },
     "execution_count": 22,
     "metadata": {},
     "output_type": "execute_result"
    },
    {
     "data": {
      "image/png": "[encoded data removed]",
      "text/plain": [
       "<Figure size 432x288 with 1 Axes>"
      ]
     },
     "metadata": {
      "needs_background": "light"
     },
     "output_type": "display_data"
    }
   ],
   "source": [
    "sns.countplot(df['key'])"
   ]
  },
  {
   "cell_type": "code",
   "execution_count": 23,
   "id": "db174f17",
   "metadata": {},
   "outputs": [
    {
     "data": {
      "text/plain": [
       "<AxesSubplot:xlabel='song_hotttnesss', ylabel='tempo'>"
      ]
     },
     "execution_count": 23,
     "metadata": {},
     "output_type": "execute_result"
    },
    {
     "data": {
      "image/png": "[encoded data removed]",
      "text/plain": [
       "<Figure size 432x288 with 1 Axes>"
      ]
     },
     "metadata": {
      "needs_background": "light"
     },
     "output_type": "display_data"
    }
   ],
   "source": [
    "sns.histplot(df, x=df['song_hotttnesss'], y=df['tempo'])"
   ]
  },
  {
   "cell_type": "code",
   "execution_count": 24,
   "id": "8a9445de",
   "metadata": {},
   "outputs": [
    {
     "data": {
      "text/plain": [
       "Text(0, 0.5, 'Percentage')"
      ]
     },
     "execution_count": 24,
     "metadata": {},
     "output_type": "execute_result"
    },
    {
     "data": {
      "image/png": "[encoded data removed]",
      "text/plain": [
       "<Figure size 432x288 with 1 Axes>"
      ]
     },
     "metadata": {
      "needs_background": "light"
     },
     "output_type": "display_data"
    }
   ],
   "source": [
    "bins=[1950,1960, 1970, 1980, 1990, 2000, 2010, 2020]\n",
    "group=['1950s','1960s','1970s', '1980s', '1990s', '2000s', '2010s']\n",
    "df['Decades_bin']=pd.cut(df['year'],bins,labels=group)\n",
    "Decades_bin=pd.crosstab(df['Decades_bin'],df['key'])\n",
    "Decades_bin.div(Decades_bin.sum(1).astype(float), axis=0).plot(kind=\"bar\",stacked=True)\n",
    "plt.xlabel('Year')\n",
    "plt.ylabel('Percentage')"
   ]
  },
  {
   "cell_type": "code",
   "execution_count": 25,
   "id": "888e6501",
   "metadata": {},
   "outputs": [
    {
     "data": {
      "text/plain": [
       "Text(0, 0.5, 'Percentage')"
      ]
     },
     "execution_count": 25,
     "metadata": {},
     "output_type": "execute_result"
    },
    {
     "data": {
      "image/png": "[encoded data removed]",
      "text/plain": [
       "<Figure size 432x288 with 1 Axes>"
      ]
     },
     "metadata": {
      "needs_background": "light"
     },
     "output_type": "display_data"
    }
   ],
   "source": [
    "binsA=[0,0.25,0.5, 0.75, 1]\n",
    "group=['0-25% hot','25-50% hot','60-75%', '75-100% hot']\n",
    "df['hotness_bin']=pd.cut(df['song_hotttnesss'],binsA,labels=group)\n",
    "hotness_bin=pd.crosstab(df['hotness_bin'],df['mode'])\n",
    "hotness_bin.div(hotness_bin.sum(1).astype(float), axis=0).plot(kind=\"bar\",stacked=True)\n",
    "plt.xlabel('Hotness')\n",
    "plt.ylabel('Percentage')"
   ]
  },
  {
   "cell_type": "code",
   "execution_count": 26,
   "id": "62fc4921",
   "metadata": {},
   "outputs": [
    {
     "data": {
      "text/plain": [
       "Text(0, 0.5, 'Percentage')"
      ]
     },
     "execution_count": 26,
     "metadata": {},
     "output_type": "execute_result"
    },
    {
     "data": {
      "image/png": "[encoded data removed]",
      "text/plain": [
       "<Figure size 432x288 with 1 Axes>"
      ]
     },
     "metadata": {
      "needs_background": "light"
     },
     "output_type": "display_data"
    }
   ],
   "source": [
    "binsA=[0,0.25,0.5, 0.75, 1]\n",
    "group=['0-25% hot','25-50% hot','60-75%', '75-100% hot']\n",
    "df['hotness_bin']=pd.cut(df['song_hotttnesss'],binsA,labels=group)\n",
    "hotness_bin=pd.crosstab(df['hotness_bin'],df['time_signature'])\n",
    "hotness_bin.div(hotness_bin.sum(1).astype(float), axis=0).plot(kind=\"bar\",stacked=True)\n",
    "plt.xlabel('Hotness')\n",
    "plt.ylabel('Percentage')"
   ]
  },
  {
   "cell_type": "code",
   "execution_count": 27,
   "id": "acc92fae",
   "metadata": {},
   "outputs": [],
   "source": [
    "df = df.drop(['Decades_bin', 'hotness_bin'], axis=1)"
   ]
  },
  {
   "cell_type": "markdown",
   "id": "682f2ca3",
   "metadata": {},
   "source": [
    "# Normalisation"
   ]
  },
  {
   "cell_type": "code",
   "execution_count": 28,
   "id": "aa0db9cc",
   "metadata": {},
   "outputs": [],
   "source": [
    "from sklearn.cluster import KMeans"
   ]
  },
  {
   "cell_type": "code",
   "execution_count": 29,
   "id": "09daa679",
   "metadata": {},
   "outputs": [],
   "source": [
    "from sklearn import preprocessing"
   ]
  },
  {
   "cell_type": "code",
   "execution_count": 30,
   "id": "213d80f9",
   "metadata": {},
   "outputs": [],
   "source": [
    "df['loudness'] = df['loudness'].abs() #take the absolute value of loudness to remove negative numbers for normalisation"
   ]
  },
  {
   "cell_type": "code",
   "execution_count": 31,
   "id": "9945eb7e",
   "metadata": {},
   "outputs": [],
   "source": [
    "from sklearn.preprocessing import LabelEncoder"
   ]
  },
  {
   "cell_type": "code",
   "execution_count": 32,
   "id": "a5fd8608",
   "metadata": {},
   "outputs": [],
   "source": [
    "cols = ['is_hot']\n",
    "le = LabelEncoder()                       # initialise the necessary function taken from the LabelEncoder library\n",
    "for col in cols:                          # iterate over all variables in cols\n",
    "    df[col] = le.fit_transform(df[col])"
   ]
  },
  {
   "cell_type": "code",
   "execution_count": 33,
   "id": "9d0e93db",
   "metadata": {},
   "outputs": [],
   "source": [
    "df=(df-df.min())/(df.max()-df.min()) #normalise data"
   ]
  },
  {
   "cell_type": "code",
   "execution_count": 34,
   "id": "1a81254f",
   "metadata": {},
   "outputs": [],
   "source": [
    "df = df.reset_index() #reset the index"
   ]
  },
  {
   "cell_type": "code",
   "execution_count": 35,
   "id": "94d92ae6",
   "metadata": {},
   "outputs": [
    {
     "data": {
      "text/html": [
       "<div>\n",
       "<style scoped>\n",
       "    .dataframe tbody tr th:only-of-type {\n",
       "        vertical-align: middle;\n",
       "    }\n",
       "\n",
       "    .dataframe tbody tr th {\n",
       "        vertical-align: top;\n",
       "    }\n",
       "\n",
       "    .dataframe thead th {\n",
       "        text-align: right;\n",
       "    }\n",
       "</style>\n",
       "<table border=\"1\" class=\"dataframe\">\n",
       "  <thead>\n",
       "    <tr style=\"text-align: right;\">\n",
       "      <th></th>\n",
       "      <th>index</th>\n",
       "      <th>analysis_sample_rate</th>\n",
       "      <th>artist_familiarity</th>\n",
       "      <th>artist_hotttnesss</th>\n",
       "      <th>artist_terms</th>\n",
       "      <th>bars_start</th>\n",
       "      <th>beats_start</th>\n",
       "      <th>duration</th>\n",
       "      <th>end_of_fade_in</th>\n",
       "      <th>key</th>\n",
       "      <th>loudness</th>\n",
       "      <th>mode</th>\n",
       "      <th>mode_confidence</th>\n",
       "      <th>segments_start</th>\n",
       "      <th>song_hotttnesss</th>\n",
       "      <th>start_of_fade_out</th>\n",
       "      <th>tempo</th>\n",
       "      <th>time_signature</th>\n",
       "      <th>year</th>\n",
       "      <th>is_hot</th>\n",
       "    </tr>\n",
       "  </thead>\n",
       "  <tbody>\n",
       "    <tr>\n",
       "      <th>0</th>\n",
       "      <td>4</td>\n",
       "      <td>NaN</td>\n",
       "      <td>0.651046</td>\n",
       "      <td>0.371106</td>\n",
       "      <td>0.473684</td>\n",
       "      <td>0.099458</td>\n",
       "      <td>0.184462</td>\n",
       "      <td>0.125491</td>\n",
       "      <td>0.002002</td>\n",
       "      <td>0.181818</td>\n",
       "      <td>0.095684</td>\n",
       "      <td>1.0</td>\n",
       "      <td>0.371</td>\n",
       "      <td>0.171539</td>\n",
       "      <td>0.509393</td>\n",
       "      <td>0.119373</td>\n",
       "      <td>0.501544</td>\n",
       "      <td>0.571429</td>\n",
       "      <td>0.946429</td>\n",
       "      <td>1.0</td>\n",
       "    </tr>\n",
       "    <tr>\n",
       "      <th>1</th>\n",
       "      <td>8</td>\n",
       "      <td>NaN</td>\n",
       "      <td>0.426668</td>\n",
       "      <td>0.306951</td>\n",
       "      <td>0.289474</td>\n",
       "      <td>0.084087</td>\n",
       "      <td>0.158288</td>\n",
       "      <td>0.163412</td>\n",
       "      <td>0.160742</td>\n",
       "      <td>0.363636</td>\n",
       "      <td>0.314407</td>\n",
       "      <td>1.0</td>\n",
       "      <td>0.652</td>\n",
       "      <td>0.233376</td>\n",
       "      <td>0.089318</td>\n",
       "      <td>0.157583</td>\n",
       "      <td>0.334947</td>\n",
       "      <td>0.571429</td>\n",
       "      <td>0.535714</td>\n",
       "      <td>0.0</td>\n",
       "    </tr>\n",
       "    <tr>\n",
       "      <th>2</th>\n",
       "      <td>15</td>\n",
       "      <td>NaN</td>\n",
       "      <td>0.636424</td>\n",
       "      <td>0.413796</td>\n",
       "      <td>0.605263</td>\n",
       "      <td>0.222423</td>\n",
       "      <td>0.411300</td>\n",
       "      <td>0.302789</td>\n",
       "      <td>0.000000</td>\n",
       "      <td>0.636364</td>\n",
       "      <td>0.194772</td>\n",
       "      <td>1.0</td>\n",
       "      <td>0.829</td>\n",
       "      <td>0.418629</td>\n",
       "      <td>0.262060</td>\n",
       "      <td>0.301476</td>\n",
       "      <td>0.463226</td>\n",
       "      <td>0.571429</td>\n",
       "      <td>0.589286</td>\n",
       "      <td>0.0</td>\n",
       "    </tr>\n",
       "    <tr>\n",
       "      <th>3</th>\n",
       "      <td>18</td>\n",
       "      <td>NaN</td>\n",
       "      <td>0.707200</td>\n",
       "      <td>0.474330</td>\n",
       "      <td>0.605263</td>\n",
       "      <td>0.160036</td>\n",
       "      <td>0.296635</td>\n",
       "      <td>0.176310</td>\n",
       "      <td>0.004398</td>\n",
       "      <td>0.636364</td>\n",
       "      <td>0.114407</td>\n",
       "      <td>1.0</td>\n",
       "      <td>0.756</td>\n",
       "      <td>0.212678</td>\n",
       "      <td>0.608179</td>\n",
       "      <td>0.174451</td>\n",
       "      <td>0.580113</td>\n",
       "      <td>0.571429</td>\n",
       "      <td>0.892857</td>\n",
       "      <td>1.0</td>\n",
       "    </tr>\n",
       "    <tr>\n",
       "      <th>4</th>\n",
       "      <td>23</td>\n",
       "      <td>NaN</td>\n",
       "      <td>0.839963</td>\n",
       "      <td>0.500589</td>\n",
       "      <td>0.394737</td>\n",
       "      <td>0.128391</td>\n",
       "      <td>0.237640</td>\n",
       "      <td>0.124340</td>\n",
       "      <td>0.001850</td>\n",
       "      <td>0.636364</td>\n",
       "      <td>0.089921</td>\n",
       "      <td>1.0</td>\n",
       "      <td>0.453</td>\n",
       "      <td>0.183441</td>\n",
       "      <td>0.586336</td>\n",
       "      <td>0.123173</td>\n",
       "      <td>0.645059</td>\n",
       "      <td>0.571429</td>\n",
       "      <td>0.892857</td>\n",
       "      <td>1.0</td>\n",
       "    </tr>\n",
       "  </tbody>\n",
       "</table>\n",
       "</div>"
      ],
      "text/plain": [
       "   index  analysis_sample_rate  artist_familiarity  artist_hotttnesss  \\\n",
       "0      4                   NaN            0.651046           0.371106   \n",
       "1      8                   NaN            0.426668           0.306951   \n",
       "2     15                   NaN            0.636424           0.413796   \n",
       "3     18                   NaN            0.707200           0.474330   \n",
       "4     23                   NaN            0.839963           0.500589   \n",
       "\n",
       "   artist_terms  bars_start  beats_start  duration  end_of_fade_in       key  \\\n",
       "0      0.473684    0.099458     0.184462  0.125491        0.002002  0.181818   \n",
       "1      0.289474    0.084087     0.158288  0.163412        0.160742  0.363636   \n",
       "2      0.605263    0.222423     0.411300  0.302789        0.000000  0.636364   \n",
       "3      0.605263    0.160036     0.296635  0.176310        0.004398  0.636364   \n",
       "4      0.394737    0.128391     0.237640  0.124340        0.001850  0.636364   \n",
       "\n",
       "   loudness  mode  mode_confidence  segments_start  song_hotttnesss  \\\n",
       "0  0.095684   1.0            0.371        0.171539         0.509393   \n",
       "1  0.314407   1.0            0.652        0.233376         0.089318   \n",
       "2  0.194772   1.0            0.829        0.418629         0.262060   \n",
       "3  0.114407   1.0            0.756        0.212678         0.608179   \n",
       "4  0.089921   1.0            0.453        0.183441         0.586336   \n",
       "\n",
       "   start_of_fade_out     tempo  time_signature      year  is_hot  \n",
       "0           0.119373  0.501544        0.571429  0.946429     1.0  \n",
       "1           0.157583  0.334947        0.571429  0.535714     0.0  \n",
       "2           0.301476  0.463226        0.571429  0.589286     0.0  \n",
       "3           0.174451  0.580113        0.571429  0.892857     1.0  \n",
       "4           0.123173  0.645059        0.571429  0.892857     1.0  "
      ]
     },
     "execution_count": 35,
     "metadata": {},
     "output_type": "execute_result"
    }
   ],
   "source": [
    "df.head()"
   ]
  },
  {
   "cell_type": "code",
   "execution_count": 36,
   "id": "ad3075af",
   "metadata": {},
   "outputs": [],
   "source": [
    "df = df.drop(['analysis_sample_rate', 'index'], axis=1) #drop analysis_sample_rate and index columns"
   ]
  },
  {
   "cell_type": "markdown",
   "id": "0592867e",
   "metadata": {},
   "source": [
    "# Correlation Matrix"
   ]
  },
  {
   "cell_type": "code",
   "execution_count": 37,
   "id": "98bc1b9b",
   "metadata": {},
   "outputs": [],
   "source": [
    "from sklearn.preprocessing import LabelEncoder"
   ]
  },
  {
   "cell_type": "code",
   "execution_count": 38,
   "id": "c09e7d1a",
   "metadata": {},
   "outputs": [],
   "source": [
    "corr=df.corr()"
   ]
  },
  {
   "cell_type": "code",
   "execution_count": 39,
   "id": "1ae62ed0",
   "metadata": {},
   "outputs": [
    {
     "data": {
      "text/plain": [
       "<AxesSubplot:>"
      ]
     },
     "execution_count": 39,
     "metadata": {},
     "output_type": "execute_result"
    },
    {
     "data": {
      "image/png": "[encoded data removed]",
      "text/plain": [
       "<Figure size 1080x720 with 2 Axes>"
      ]
     },
     "metadata": {
      "needs_background": "light"
     },
     "output_type": "display_data"
    }
   ],
   "source": [
    "plt.figure(figsize=(15,10))\n",
    "sns.heatmap(corr, annot = True, cmap=\"BuPu\")"
   ]
  },
  {
   "cell_type": "code",
   "execution_count": 40,
   "id": "bfadd1e3",
   "metadata": {},
   "outputs": [],
   "source": [
    "df = df.drop(['song_hotttnesss'], axis=1) "
   ]
  },
  {
   "cell_type": "code",
   "execution_count": 41,
   "id": "950f5e1c",
   "metadata": {},
   "outputs": [],
   "source": [
    "X = df.drop(['is_hot'],axis=1) \n",
    "y = df['is_hot'].astype('int')"
   ]
  },
  {
   "cell_type": "code",
   "execution_count": 42,
   "id": "75447605",
   "metadata": {},
   "outputs": [
    {
     "data": {
      "text/html": [
       "<div>\n",
       "<style scoped>\n",
       "    .dataframe tbody tr th:only-of-type {\n",
       "        vertical-align: middle;\n",
       "    }\n",
       "\n",
       "    .dataframe tbody tr th {\n",
       "        vertical-align: top;\n",
       "    }\n",
       "\n",
       "    .dataframe thead th {\n",
       "        text-align: right;\n",
       "    }\n",
       "</style>\n",
       "<table border=\"1\" class=\"dataframe\">\n",
       "  <thead>\n",
       "    <tr style=\"text-align: right;\">\n",
       "      <th></th>\n",
       "      <th>artist_familiarity</th>\n",
       "      <th>artist_hotttnesss</th>\n",
       "      <th>artist_terms</th>\n",
       "      <th>bars_start</th>\n",
       "      <th>beats_start</th>\n",
       "      <th>duration</th>\n",
       "      <th>end_of_fade_in</th>\n",
       "      <th>key</th>\n",
       "      <th>loudness</th>\n",
       "      <th>mode</th>\n",
       "      <th>mode_confidence</th>\n",
       "      <th>segments_start</th>\n",
       "      <th>start_of_fade_out</th>\n",
       "      <th>tempo</th>\n",
       "      <th>time_signature</th>\n",
       "      <th>year</th>\n",
       "      <th>is_hot</th>\n",
       "    </tr>\n",
       "  </thead>\n",
       "  <tbody>\n",
       "    <tr>\n",
       "      <th>0</th>\n",
       "      <td>0.651046</td>\n",
       "      <td>0.371106</td>\n",
       "      <td>0.473684</td>\n",
       "      <td>0.099458</td>\n",
       "      <td>0.184462</td>\n",
       "      <td>0.125491</td>\n",
       "      <td>0.002002</td>\n",
       "      <td>0.181818</td>\n",
       "      <td>0.095684</td>\n",
       "      <td>1.0</td>\n",
       "      <td>0.371</td>\n",
       "      <td>0.171539</td>\n",
       "      <td>0.119373</td>\n",
       "      <td>0.501544</td>\n",
       "      <td>0.571429</td>\n",
       "      <td>0.946429</td>\n",
       "      <td>1.0</td>\n",
       "    </tr>\n",
       "    <tr>\n",
       "      <th>1</th>\n",
       "      <td>0.426668</td>\n",
       "      <td>0.306951</td>\n",
       "      <td>0.289474</td>\n",
       "      <td>0.084087</td>\n",
       "      <td>0.158288</td>\n",
       "      <td>0.163412</td>\n",
       "      <td>0.160742</td>\n",
       "      <td>0.363636</td>\n",
       "      <td>0.314407</td>\n",
       "      <td>1.0</td>\n",
       "      <td>0.652</td>\n",
       "      <td>0.233376</td>\n",
       "      <td>0.157583</td>\n",
       "      <td>0.334947</td>\n",
       "      <td>0.571429</td>\n",
       "      <td>0.535714</td>\n",
       "      <td>0.0</td>\n",
       "    </tr>\n",
       "    <tr>\n",
       "      <th>2</th>\n",
       "      <td>0.636424</td>\n",
       "      <td>0.413796</td>\n",
       "      <td>0.605263</td>\n",
       "      <td>0.222423</td>\n",
       "      <td>0.411300</td>\n",
       "      <td>0.302789</td>\n",
       "      <td>0.000000</td>\n",
       "      <td>0.636364</td>\n",
       "      <td>0.194772</td>\n",
       "      <td>1.0</td>\n",
       "      <td>0.829</td>\n",
       "      <td>0.418629</td>\n",
       "      <td>0.301476</td>\n",
       "      <td>0.463226</td>\n",
       "      <td>0.571429</td>\n",
       "      <td>0.589286</td>\n",
       "      <td>0.0</td>\n",
       "    </tr>\n",
       "    <tr>\n",
       "      <th>3</th>\n",
       "      <td>0.707200</td>\n",
       "      <td>0.474330</td>\n",
       "      <td>0.605263</td>\n",
       "      <td>0.160036</td>\n",
       "      <td>0.296635</td>\n",
       "      <td>0.176310</td>\n",
       "      <td>0.004398</td>\n",
       "      <td>0.636364</td>\n",
       "      <td>0.114407</td>\n",
       "      <td>1.0</td>\n",
       "      <td>0.756</td>\n",
       "      <td>0.212678</td>\n",
       "      <td>0.174451</td>\n",
       "      <td>0.580113</td>\n",
       "      <td>0.571429</td>\n",
       "      <td>0.892857</td>\n",
       "      <td>1.0</td>\n",
       "    </tr>\n",
       "    <tr>\n",
       "      <th>4</th>\n",
       "      <td>0.839963</td>\n",
       "      <td>0.500589</td>\n",
       "      <td>0.394737</td>\n",
       "      <td>0.128391</td>\n",
       "      <td>0.237640</td>\n",
       "      <td>0.124340</td>\n",
       "      <td>0.001850</td>\n",
       "      <td>0.636364</td>\n",
       "      <td>0.089921</td>\n",
       "      <td>1.0</td>\n",
       "      <td>0.453</td>\n",
       "      <td>0.183441</td>\n",
       "      <td>0.123173</td>\n",
       "      <td>0.645059</td>\n",
       "      <td>0.571429</td>\n",
       "      <td>0.892857</td>\n",
       "      <td>1.0</td>\n",
       "    </tr>\n",
       "  </tbody>\n",
       "</table>\n",
       "</div>"
      ],
      "text/plain": [
       "   artist_familiarity  artist_hotttnesss  artist_terms  bars_start  \\\n",
       "0            0.651046           0.371106      0.473684    0.099458   \n",
       "1            0.426668           0.306951      0.289474    0.084087   \n",
       "2            0.636424           0.413796      0.605263    0.222423   \n",
       "3            0.707200           0.474330      0.605263    0.160036   \n",
       "4            0.839963           0.500589      0.394737    0.128391   \n",
       "\n",
       "   beats_start  duration  end_of_fade_in       key  loudness  mode  \\\n",
       "0     0.184462  0.125491        0.002002  0.181818  0.095684   1.0   \n",
       "1     0.158288  0.163412        0.160742  0.363636  0.314407   1.0   \n",
       "2     0.411300  0.302789        0.000000  0.636364  0.194772   1.0   \n",
       "3     0.296635  0.176310        0.004398  0.636364  0.114407   1.0   \n",
       "4     0.237640  0.124340        0.001850  0.636364  0.089921   1.0   \n",
       "\n",
       "   mode_confidence  segments_start  start_of_fade_out     tempo  \\\n",
       "0            0.371        0.171539           0.119373  0.501544   \n",
       "1            0.652        0.233376           0.157583  0.334947   \n",
       "2            0.829        0.418629           0.301476  0.463226   \n",
       "3            0.756        0.212678           0.174451  0.580113   \n",
       "4            0.453        0.183441           0.123173  0.645059   \n",
       "\n",
       "   time_signature      year  is_hot  \n",
       "0        0.571429  0.946429     1.0  \n",
       "1        0.571429  0.535714     0.0  \n",
       "2        0.571429  0.589286     0.0  \n",
       "3        0.571429  0.892857     1.0  \n",
       "4        0.571429  0.892857     1.0  "
      ]
     },
     "execution_count": 42,
     "metadata": {},
     "output_type": "execute_result"
    }
   ],
   "source": [
    "df.head()"
   ]
  },
  {
   "cell_type": "code",
   "execution_count": 43,
   "id": "0e18ef6d",
   "metadata": {},
   "outputs": [],
   "source": [
    "from sklearn.feature_selection import SelectKBest\n",
    "from sklearn.feature_selection import chi2    "
   ]
  },
  {
   "cell_type": "code",
   "execution_count": 44,
   "id": "bc979829",
   "metadata": {},
   "outputs": [],
   "source": [
    "kbest = SelectKBest(score_func = chi2, k = 'all') \n",
    "ordered_features = kbest.fit(X,y)"
   ]
  },
  {
   "cell_type": "code",
   "execution_count": 45,
   "id": "4f0ba03b",
   "metadata": {},
   "outputs": [],
   "source": [
    "df_scores = pd.DataFrame(ordered_features.scores_, columns=['Score'])"
   ]
  },
  {
   "cell_type": "code",
   "execution_count": 46,
   "id": "15ecf9c5",
   "metadata": {},
   "outputs": [],
   "source": [
    "df_columns = pd.DataFrame(X.columns, columns = ['Feature_name'])"
   ]
  },
  {
   "cell_type": "code",
   "execution_count": 47,
   "id": "ac8d36a5",
   "metadata": {},
   "outputs": [],
   "source": [
    "feature_rank = pd.concat([df_scores,df_columns],axis=1) # combine the two dataframes"
   ]
  },
  {
   "cell_type": "code",
   "execution_count": 48,
   "id": "91a8e6bb",
   "metadata": {},
   "outputs": [
    {
     "data": {
      "text/html": [
       "<div>\n",
       "<style scoped>\n",
       "    .dataframe tbody tr th:only-of-type {\n",
       "        vertical-align: middle;\n",
       "    }\n",
       "\n",
       "    .dataframe tbody tr th {\n",
       "        vertical-align: top;\n",
       "    }\n",
       "\n",
       "    .dataframe thead th {\n",
       "        text-align: right;\n",
       "    }\n",
       "</style>\n",
       "<table border=\"1\" class=\"dataframe\">\n",
       "  <thead>\n",
       "    <tr style=\"text-align: right;\">\n",
       "      <th></th>\n",
       "      <th>Score</th>\n",
       "      <th>Feature_name</th>\n",
       "    </tr>\n",
       "  </thead>\n",
       "  <tbody>\n",
       "    <tr>\n",
       "      <th>0</th>\n",
       "      <td>12.080441</td>\n",
       "      <td>artist_familiarity</td>\n",
       "    </tr>\n",
       "    <tr>\n",
       "      <th>1</th>\n",
       "      <td>9.689970</td>\n",
       "      <td>artist_hotttnesss</td>\n",
       "    </tr>\n",
       "    <tr>\n",
       "      <th>8</th>\n",
       "      <td>7.388624</td>\n",
       "      <td>loudness</td>\n",
       "    </tr>\n",
       "    <tr>\n",
       "      <th>2</th>\n",
       "      <td>1.126279</td>\n",
       "      <td>artist_terms</td>\n",
       "    </tr>\n",
       "    <tr>\n",
       "      <th>9</th>\n",
       "      <td>0.826099</td>\n",
       "      <td>mode</td>\n",
       "    </tr>\n",
       "    <tr>\n",
       "      <th>15</th>\n",
       "      <td>0.461513</td>\n",
       "      <td>year</td>\n",
       "    </tr>\n",
       "    <tr>\n",
       "      <th>7</th>\n",
       "      <td>0.453713</td>\n",
       "      <td>key</td>\n",
       "    </tr>\n",
       "    <tr>\n",
       "      <th>6</th>\n",
       "      <td>0.388371</td>\n",
       "      <td>end_of_fade_in</td>\n",
       "    </tr>\n",
       "    <tr>\n",
       "      <th>14</th>\n",
       "      <td>0.324071</td>\n",
       "      <td>time_signature</td>\n",
       "    </tr>\n",
       "    <tr>\n",
       "      <th>13</th>\n",
       "      <td>0.287015</td>\n",
       "      <td>tempo</td>\n",
       "    </tr>\n",
       "    <tr>\n",
       "      <th>4</th>\n",
       "      <td>0.220683</td>\n",
       "      <td>beats_start</td>\n",
       "    </tr>\n",
       "    <tr>\n",
       "      <th>11</th>\n",
       "      <td>0.048437</td>\n",
       "      <td>segments_start</td>\n",
       "    </tr>\n",
       "    <tr>\n",
       "      <th>3</th>\n",
       "      <td>0.020382</td>\n",
       "      <td>bars_start</td>\n",
       "    </tr>\n",
       "    <tr>\n",
       "      <th>12</th>\n",
       "      <td>0.018995</td>\n",
       "      <td>start_of_fade_out</td>\n",
       "    </tr>\n",
       "    <tr>\n",
       "      <th>5</th>\n",
       "      <td>0.018879</td>\n",
       "      <td>duration</td>\n",
       "    </tr>\n",
       "    <tr>\n",
       "      <th>10</th>\n",
       "      <td>0.006690</td>\n",
       "      <td>mode_confidence</td>\n",
       "    </tr>\n",
       "  </tbody>\n",
       "</table>\n",
       "</div>"
      ],
      "text/plain": [
       "        Score        Feature_name\n",
       "0   12.080441  artist_familiarity\n",
       "1    9.689970   artist_hotttnesss\n",
       "8    7.388624            loudness\n",
       "2    1.126279        artist_terms\n",
       "9    0.826099                mode\n",
       "15   0.461513                year\n",
       "7    0.453713                 key\n",
       "6    0.388371      end_of_fade_in\n",
       "14   0.324071      time_signature\n",
       "13   0.287015               tempo\n",
       "4    0.220683         beats_start\n",
       "11   0.048437      segments_start\n",
       "3    0.020382          bars_start\n",
       "12   0.018995   start_of_fade_out\n",
       "5    0.018879            duration\n",
       "10   0.006690     mode_confidence"
      ]
     },
     "execution_count": 48,
     "metadata": {},
     "output_type": "execute_result"
    }
   ],
   "source": [
    "feature_rank.nlargest(16,'Score')"
   ]
  },
  {
   "cell_type": "markdown",
   "id": "112b5af3",
   "metadata": {},
   "source": [
    "# Extra Trees Classifier"
   ]
  },
  {
   "cell_type": "code",
   "execution_count": 49,
   "id": "832eff71",
   "metadata": {},
   "outputs": [],
   "source": [
    "from sklearn.ensemble import ExtraTreesClassifier "
   ]
  },
  {
   "cell_type": "code",
   "execution_count": 50,
   "id": "282e923d",
   "metadata": {},
   "outputs": [
    {
     "data": {
      "text/plain": [
       "ExtraTreesClassifier()"
      ]
     },
     "execution_count": 50,
     "metadata": {},
     "output_type": "execute_result"
    }
   ],
   "source": [
    "model = ExtraTreesClassifier()\n",
    "model.fit(X,y) # pass input and output data to the method"
   ]
  },
  {
   "cell_type": "code",
   "execution_count": 51,
   "id": "619f1198",
   "metadata": {},
   "outputs": [
    {
     "data": {
      "text/plain": [
       "array([0.15024039, 0.1196944 , 0.06401537, 0.05017501, 0.05238652,\n",
       "       0.05079175, 0.05277274, 0.05267542, 0.07164247, 0.01979281,\n",
       "       0.05839834, 0.05630048, 0.05246761, 0.05614939, 0.03199803,\n",
       "       0.06049927])"
      ]
     },
     "execution_count": 51,
     "metadata": {},
     "output_type": "execute_result"
    }
   ],
   "source": [
    "model.feature_importances_"
   ]
  },
  {
   "cell_type": "code",
   "execution_count": 52,
   "id": "449f9594",
   "metadata": {},
   "outputs": [],
   "source": [
    "ranked_features = pd.Series(model.feature_importances_, index = X.columns)"
   ]
  },
  {
   "cell_type": "code",
   "execution_count": 53,
   "id": "b67c9f8c",
   "metadata": {},
   "outputs": [
    {
     "data": {
      "text/plain": [
       "<AxesSubplot:>"
      ]
     },
     "execution_count": 53,
     "metadata": {},
     "output_type": "execute_result"
    },
    {
     "data": {
      "image/png": "[encoded data removed]",
      "text/plain": [
       "<Figure size 432x288 with 1 Axes>"
      ]
     },
     "metadata": {
      "needs_background": "light"
     },
     "output_type": "display_data"
    }
   ],
   "source": [
    "ranked_features.nlargest(16).plot(kind='bar')"
   ]
  },
  {
   "cell_type": "markdown",
   "id": "587d826c",
   "metadata": {},
   "source": [
    "# Mutual Information Gain"
   ]
  },
  {
   "cell_type": "code",
   "execution_count": 54,
   "id": "4d3a1a6b",
   "metadata": {},
   "outputs": [],
   "source": [
    "from sklearn.feature_selection import mutual_info_classif\n",
    "mu_ifo = mutual_info_classif(X,y)"
   ]
  },
  {
   "cell_type": "code",
   "execution_count": 55,
   "id": "fa60e0e8",
   "metadata": {},
   "outputs": [
    {
     "data": {
      "text/plain": [
       "artist_familiarity    0.182863\n",
       "artist_hotttnesss     0.164573\n",
       "artist_terms          0.032147\n",
       "loudness              0.026046\n",
       "key                   0.025010\n",
       "segments_start        0.018841\n",
       "time_signature        0.014885\n",
       "beats_start           0.014081\n",
       "mode_confidence       0.010007\n",
       "bars_start            0.007473\n",
       "year                  0.004861\n",
       "duration              0.000000\n",
       "end_of_fade_in        0.000000\n",
       "mode                  0.000000\n",
       "start_of_fade_out     0.000000\n",
       "tempo                 0.000000\n",
       "dtype: float64"
      ]
     },
     "execution_count": 55,
     "metadata": {},
     "output_type": "execute_result"
    }
   ],
   "source": [
    "mu_data = pd.Series(mu_ifo, index = X.columns)\n",
    "mu_data.sort_values(ascending=False)"
   ]
  },
  {
   "cell_type": "markdown",
   "id": "0c684a53",
   "metadata": {},
   "source": [
    "# Training and test data"
   ]
  },
  {
   "cell_type": "code",
   "execution_count": 56,
   "id": "cd92b4ce",
   "metadata": {},
   "outputs": [],
   "source": [
    "from sklearn.model_selection import train_test_split #library that allows for training and testing\n",
    "\n",
    "x_train,x_test,y_train,y_test = train_test_split(X,y, test_size = 0.1, random_state=42)\n",
    "# the test_size parameter represents the % of the data used for testing (0.1 = 10%)"
   ]
  },
  {
   "cell_type": "code",
   "execution_count": 57,
   "id": "707d0d26",
   "metadata": {},
   "outputs": [],
   "source": [
    "from sklearn.model_selection import cross_val_score"
   ]
  },
  {
   "cell_type": "code",
   "execution_count": 58,
   "id": "a053ca12",
   "metadata": {},
   "outputs": [],
   "source": [
    "def classify(model, x, y):\n",
    "    x_train,x_test,y_train,y_test = train_test_split(X,y, test_size = 0.1, random_state=42)\n",
    "    model.fit(x_train,y_train)\n",
    "    print('Accuracy is: ', model.score(x_test,y_test)*100)\n",
    "    score = cross_val_score(model,x,y,cv=5) # set the number of folds to 5\n",
    "    print('Cross validation Accuaracy: ', np.mean(score)*100)"
   ]
  },
  {
   "cell_type": "markdown",
   "id": "ba2f7d58",
   "metadata": {},
   "source": [
    "# Logistic Regression Method"
   ]
  },
  {
   "cell_type": "code",
   "execution_count": 59,
   "id": "4867ebef",
   "metadata": {},
   "outputs": [
    {
     "name": "stdout",
     "output_type": "stream",
     "text": [
      "Accuracy is:  67.27941176470588\n",
      "Cross validation Accuaracy:  68.47315379231141\n"
     ]
    }
   ],
   "source": [
    "# initialise logistic regression\n",
    "\n",
    "from sklearn.linear_model import LogisticRegression\n",
    "LG_model = LogisticRegression()\n",
    "classify(LG_model, X,y)  # passing logistic regression as the model, along with x and y, to the 'classify' function"
   ]
  },
  {
   "cell_type": "code",
   "execution_count": 60,
   "id": "dee9218f",
   "metadata": {},
   "outputs": [
    {
     "data": {
      "text/plain": [
       "LogisticRegression()"
      ]
     },
     "execution_count": 60,
     "metadata": {},
     "output_type": "execute_result"
    }
   ],
   "source": [
    "LG_model.fit(x_train,y_train)"
   ]
  },
  {
   "cell_type": "code",
   "execution_count": 61,
   "id": "2b09feb9",
   "metadata": {},
   "outputs": [],
   "source": [
    "y_pred = LG_model.predict(x_test)"
   ]
  },
  {
   "cell_type": "markdown",
   "id": "3110bc42",
   "metadata": {},
   "source": [
    "# Logistic Regression Confusion Matrix"
   ]
  },
  {
   "cell_type": "code",
   "execution_count": 62,
   "id": "4ffa11e4",
   "metadata": {},
   "outputs": [],
   "source": [
    "from sklearn.metrics import confusion_matrix\n",
    "\n",
    "cm = confusion_matrix(y_test,y_pred)"
   ]
  },
  {
   "cell_type": "code",
   "execution_count": 63,
   "id": "3c631629",
   "metadata": {},
   "outputs": [
    {
     "data": {
      "text/plain": [
       "<AxesSubplot:>"
      ]
     },
     "execution_count": 63,
     "metadata": {},
     "output_type": "execute_result"
    },
    {
     "data": {
      "image/png": "[encoded data removed]",
      "text/plain": [
       "<Figure size 432x288 with 2 Axes>"
      ]
     },
     "metadata": {
      "needs_background": "light"
     },
     "output_type": "display_data"
    }
   ],
   "source": [
    "sns.heatmap(cm,annot=True)"
   ]
  },
  {
   "cell_type": "markdown",
   "id": "e3b844ce",
   "metadata": {},
   "source": [
    "# K-Nearest Neighbour Method"
   ]
  },
  {
   "cell_type": "code",
   "execution_count": 64,
   "id": "03f17e41",
   "metadata": {},
   "outputs": [
    {
     "name": "stdout",
     "output_type": "stream",
     "text": [
      "Accuracy is:  67.64705882352942\n",
      "Cross validation Accuaracy:  64.12135668318008\n"
     ]
    }
   ],
   "source": [
    "# initialise KNN\n",
    "\n",
    "from sklearn.neighbors import KNeighborsClassifier\n",
    "knn_model = KNeighborsClassifier(n_neighbors=18) # k set to 18, though default was 5\n",
    "classify(knn_model,X,y)"
   ]
  },
  {
   "cell_type": "code",
   "execution_count": 65,
   "id": "70eeaea6",
   "metadata": {},
   "outputs": [
    {
     "data": {
      "text/plain": [
       "KNeighborsClassifier(n_neighbors=18)"
      ]
     },
     "execution_count": 65,
     "metadata": {},
     "output_type": "execute_result"
    }
   ],
   "source": [
    "knn_model.fit(x_train, y_train)"
   ]
  },
  {
   "cell_type": "code",
   "execution_count": 66,
   "id": "0725c50a",
   "metadata": {},
   "outputs": [],
   "source": [
    "y_pred = knn_model.predict(x_test)"
   ]
  },
  {
   "cell_type": "markdown",
   "id": "91a1c376",
   "metadata": {},
   "source": [
    "# K-Nearest Neighbour Confusion Matrix"
   ]
  },
  {
   "cell_type": "code",
   "execution_count": 67,
   "id": "25f0a520",
   "metadata": {},
   "outputs": [],
   "source": [
    "cm = confusion_matrix(y_test,y_pred)"
   ]
  },
  {
   "cell_type": "code",
   "execution_count": 68,
   "id": "eb9e49fc",
   "metadata": {},
   "outputs": [
    {
     "data": {
      "text/plain": [
       "<AxesSubplot:>"
      ]
     },
     "execution_count": 68,
     "metadata": {},
     "output_type": "execute_result"
    },
    {
     "data": {
      "image/png": "[encoded data removed]",
      "text/plain": [
       "<Figure size 432x288 with 2 Axes>"
      ]
     },
     "metadata": {
      "needs_background": "light"
     },
     "output_type": "display_data"
    }
   ],
   "source": [
    "sns.heatmap(cm,annot=True)"
   ]
  }
 ],
 "metadata": {
  "kernelspec": {
   "display_name": "Python 3",
   "language": "python",
   "name": "python3"
  },
  "language_info": {
   "codemirror_mode": {
    "name": "ipython",
    "version": 3
   },
   "file_extension": ".py",
   "mimetype": "text/x-python",
   "name": "python",
   "nbconvert_exporter": "python",
   "pygments_lexer": "ipython3",
   "version": "3.8.8"
  }
 },
 "nbformat": 4,
 "nbformat_minor": 5
}
